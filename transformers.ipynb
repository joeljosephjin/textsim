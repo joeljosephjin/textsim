{
 "cells": [
  {
   "cell_type": "code",
   "execution_count": 28,
   "id": "fb2f7c84-f7fe-4f38-b029-9ba4e0c1907a",
   "metadata": {},
   "outputs": [],
   "source": [
    "from sklearn import metrics\n",
    "import matplotlib.pyplot as plt\n",
    "import numpy as np"
   ]
  },
  {
   "cell_type": "code",
   "execution_count": 7,
   "id": "fddaae36-2c69-4463-a6ba-e5f2ac1a75ab",
   "metadata": {},
   "outputs": [],
   "source": [
    "import pandas as pd\n",
    "\n",
    "df_train = pd.read_csv('data/train.csv')\n",
    "df_test = pd.read_csv('data/evaluation.csv')"
   ]
  },
  {
   "cell_type": "code",
   "execution_count": 9,
   "id": "31204639-9571-4142-8335-661490849478",
   "metadata": {},
   "outputs": [],
   "source": [
    "from sentence_transformers import SentenceTransformer, util\n",
    "\n",
    "model = SentenceTransformer('sentence-transformers/all-MiniLM-L6-v2')\n",
    "\n",
    "def get_score(sent1, sent2):\n",
    "    #Compute embedding for both lists\n",
    "    embedding_1= model.encode(sent1, convert_to_tensor=True)\n",
    "    embedding_2 = model.encode(sent2, convert_to_tensor=True)\n",
    "\n",
    "    score = util.pytorch_cos_sim(embedding_1, embedding_2)\n",
    "    return score"
   ]
  },
  {
   "cell_type": "code",
   "execution_count": 33,
   "id": "79b174eb-4433-4a16-8356-fd1dcaacee8b",
   "metadata": {},
   "outputs": [],
   "source": [
    "def upsample_data(df_test):\n",
    "    # separate minority and majority classes\n",
    "    negative = df_test[df_test.label==0]\n",
    "    positive = df_test[df_test.label==1]\n",
    "    # upsample minority\n",
    "    pos_upsampled = resample(positive,\n",
    "     replace=True, # sample with replacement\n",
    "     n_samples=len(negative), # match number in majority class\n",
    "     random_state=27) # reproducible results\n",
    "    # combine majority and upsampled minority\n",
    "    upsampled = pd.concat([negative, pos_upsampled])\n",
    "    # check new class counts\n",
    "    print('new distr:', upsampled.label.value_counts())\n",
    "    \n",
    "    return upsampled"
   ]
  },
  {
   "cell_type": "code",
   "execution_count": 35,
   "id": "0cddd8e6-75b6-4b87-8434-ea26742c4958",
   "metadata": {},
   "outputs": [],
   "source": [
    "from sklearn.utils import resample"
   ]
  },
  {
   "cell_type": "code",
   "execution_count": 40,
   "id": "4975b77c-206e-4967-820a-851023cfb801",
   "metadata": {},
   "outputs": [
    {
     "name": "stdout",
     "output_type": "stream",
     "text": [
      "new distr: 0    5999\n",
      "1    5999\n",
      "Name: label, dtype: int64\n"
     ]
    }
   ],
   "source": [
    "df_test_ups = upsample_data(df_test).reset_index(drop=True)"
   ]
  },
  {
   "cell_type": "code",
   "execution_count": 41,
   "id": "86c62a9f-f2d8-4fe9-9e16-811f20a62a50",
   "metadata": {},
   "outputs": [],
   "source": [
    "score_np = get_score(df_test_ups['text'], df_test_ups['reason'])"
   ]
  },
  {
   "cell_type": "code",
   "execution_count": 44,
   "id": "c2cdccf7-b2cb-4ab7-bc7d-c819bc164daa",
   "metadata": {},
   "outputs": [],
   "source": [
    "y_pred = score_np.diagonal().cpu()\n",
    "y_true = df_test_ups['label'].to_numpy()"
   ]
  },
  {
   "cell_type": "code",
   "execution_count": 45,
   "id": "407eee61-0983-4f86-8b06-98b5fe089022",
   "metadata": {},
   "outputs": [
    {
     "data": {
      "image/png": "[encoded data removed]",
      "text/plain": [
       "<Figure size 432x288 with 1 Axes>"
      ]
     },
     "metadata": {
      "needs_background": "light"
     },
     "output_type": "display_data"
    }
   ],
   "source": [
    "fpr, tpr, _ = metrics.roc_curve(y_true, y_pred)\n",
    "auc = metrics.roc_auc_score(y_true, y_pred)\n",
    "plt.plot(fpr, tpr, label=\"data 1, auc=\"+str(auc))\n",
    "plt.legend(loc=4)\n",
    "plt.title('ROC Curve')\n",
    "plt.show()"
   ]
  },
  {
   "cell_type": "code",
   "execution_count": 46,
   "id": "2d46cbe5-8920-4604-a995-31d0ed798b74",
   "metadata": {},
   "outputs": [
    {
     "name": "stdout",
     "output_type": "stream",
     "text": [
      "Classification Report for Threshold 0.4 set:\n",
      "               precision    recall  f1-score   support\n",
      "\n",
      "           0       0.85      0.45      0.59      5999\n",
      "           1       0.63      0.92      0.75      5999\n",
      "\n",
      "    accuracy                           0.69     11998\n",
      "   macro avg       0.74      0.69      0.67     11998\n",
      "weighted avg       0.74      0.69      0.67     11998\n",
      "\n",
      "Classification Report for Threshold 0.5 set:\n",
      "               precision    recall  f1-score   support\n",
      "\n",
      "           0       0.76      0.69      0.73      5999\n",
      "           1       0.72      0.78      0.75      5999\n",
      "\n",
      "    accuracy                           0.74     11998\n",
      "   macro avg       0.74      0.74      0.74     11998\n",
      "weighted avg       0.74      0.74      0.74     11998\n",
      "\n",
      "Classification Report for Threshold 0.6 set:\n",
      "               precision    recall  f1-score   support\n",
      "\n",
      "           0       0.67      0.88      0.76      5999\n",
      "           1       0.82      0.57      0.67      5999\n",
      "\n",
      "    accuracy                           0.72     11998\n",
      "   macro avg       0.75      0.72      0.72     11998\n",
      "weighted avg       0.75      0.72      0.72     11998\n",
      "\n",
      "Classification Report for Threshold 0.7 set:\n",
      "               precision    recall  f1-score   support\n",
      "\n",
      "           0       0.58      0.97      0.72      5999\n",
      "           1       0.90      0.30      0.45      5999\n",
      "\n",
      "    accuracy                           0.63     11998\n",
      "   macro avg       0.74      0.63      0.59     11998\n",
      "weighted avg       0.74      0.63      0.59     11998\n",
      "\n",
      "Classification Report for Threshold 0.8 set:\n",
      "               precision    recall  f1-score   support\n",
      "\n",
      "           0       0.53      0.99      0.69      5999\n",
      "           1       0.95      0.11      0.19      5999\n",
      "\n",
      "    accuracy                           0.55     11998\n",
      "   macro avg       0.74      0.55      0.44     11998\n",
      "weighted avg       0.74      0.55      0.44     11998\n",
      "\n"
     ]
    }
   ],
   "source": [
    "thresholds = [0.4, 0.5, 0.6, 0.7, 0.8]\n",
    "\n",
    "for threshold in thresholds:\n",
    "        y_pred_thresh = np.where(y_pred>threshold, 1, 0)\n",
    "        print(f'Classification Report for Threshold {threshold} set:\\n', metrics.classification_report(y_true, y_pred_thresh))"
   ]
  },
  {
   "cell_type": "code",
   "execution_count": null,
   "id": "31a5cfde-8c50-4565-b3f8-d06a4188bf17",
   "metadata": {},
   "outputs": [],
   "source": [
    "# we get 74% accuracy with 0.5 as threshold"
   ]
  },
  {
   "cell_type": "code",
   "execution_count": null,
   "id": "acddf936-b586-443b-8ff2-132460c48e25",
   "metadata": {},
   "outputs": [],
   "source": []
  }
 ],
 "metadata": {
  "kernelspec": {
   "display_name": "py310",
   "language": "python",
   "name": "py310"
  },
  "language_info": {
   "codemirror_mode": {
    "name": "ipython",
    "version": 3
   },
   "file_extension": ".py",
   "mimetype": "text/x-python",
   "name": "python",
   "nbconvert_exporter": "python",
   "pygments_lexer": "ipython3",
   "version": "3.10.0"
  }
 },
 "nbformat": 4,
 "nbformat_minor": 5
}
